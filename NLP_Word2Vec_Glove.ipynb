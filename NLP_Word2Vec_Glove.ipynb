{
 "cells": [
  {
   "cell_type": "code",
   "execution_count": 35,
   "metadata": {},
   "outputs": [],
   "source": [
    "from __future__ import print_function\n",
    "from builtins import range\n",
    "import sys\n",
    "import numpy as np\n",
    "import pandas as pd\n",
    "import matplotlib as plt\n",
    "from sklearn.ensemble import ExtraTreesClassifier,RandomForestClassifier"
   ]
  },
  {
   "cell_type": "code",
   "execution_count": 36,
   "metadata": {},
   "outputs": [],
   "source": [
    "\n",
    "from gensim.models import KeyedVectors"
   ]
  },
  {
   "cell_type": "code",
   "execution_count": 37,
   "metadata": {},
   "outputs": [],
   "source": [
    "train = pd.read_csv('/home/rkamath/fastai/train.txt',header=None,sep='\\t')"
   ]
  },
  {
   "cell_type": "code",
   "execution_count": 38,
   "metadata": {},
   "outputs": [],
   "source": [
    "test = pd.read_csv('/home/rkamath/fastai/test.txt',header=None, sep='\\t')"
   ]
  },
  {
   "cell_type": "code",
   "execution_count": 39,
   "metadata": {},
   "outputs": [],
   "source": [
    "train.columns = ['label','content']\n",
    "test.columns = ['label','content']"
   ]
  },
  {
   "cell_type": "code",
   "execution_count": 40,
   "metadata": {},
   "outputs": [],
   "source": [
    "import pdb\n",
    "class GloveVectorizer():\n",
    "    def __init__(self):\n",
    "        print(\"Loading Vectors\")\n",
    "        word2vec = {}\n",
    "        embedding = []\n",
    "        idx2word = []\n",
    "        with open('/home/rkamath/fastai/glove.txt') as f:\n",
    "            for line in f:\n",
    "                values = line.split()\n",
    "                word = values[0]\n",
    "                vec = np.asarray(values[1:],dtype=\"float32\")\n",
    "                word2vec[word] = vec\n",
    "                embedding.append(vec)\n",
    "                idx2word.append(word)\n",
    "                \n",
    "        print('Found %s word vectors' % len(word2vec))\n",
    "    \n",
    "        self.word2vec = word2vec\n",
    "        self.embedding = np.array(embedding)\n",
    "        \n",
    "        self.word2idx = {v:k for k,v in enumerate(idx2word)}\n",
    "        self.V ,self.D = self.embedding.shape\n",
    "    def fit(self,data):\n",
    "        pass\n",
    "    \n",
    "    def transform(self,data):\n",
    "        \n",
    "        X = np.zeros((len(data),self.D))\n",
    "        \n",
    "        n = 0\n",
    "        emptycount = 0\n",
    "        for sentence in data:\n",
    "            tokens = sentence.lower().split()\n",
    "            vecs = []\n",
    "            for word in tokens:\n",
    "                if word in self.word2vec:\n",
    "                    \n",
    "                    vec = self.word2vec[word]\n",
    "                    vecs.append(vec)\n",
    "            if len(vecs)>0:\n",
    "                \n",
    "                vecs = np.array(vecs)\n",
    "                X[n] = vecs.mean(axis = 0)\n",
    "\n",
    "            else:\n",
    "                emptycount += 1\n",
    "            n+=1\n",
    "        print(\"No of sammples with no word found: %s %s \"%(emptycount, len(data)))\n",
    "        return X\n",
    "    \n",
    "    def fit_transform(self,data):\n",
    "        self.fit(data)\n",
    "        return self.transform(data)"
   ]
  },
  {
   "cell_type": "code",
   "execution_count": 41,
   "metadata": {},
   "outputs": [
    {
     "name": "stdout",
     "output_type": "stream",
     "text": [
      "Loading Vectors\n",
      "Found 400000 word vectors\n",
      "No of sammples with no word found: 0 11293 \n"
     ]
    }
   ],
   "source": [
    "vectorizer = GloveVectorizer()\n",
    "Xtrain = vectorizer.fit_transform(train.content)\n",
    "Ytrain = train.label"
   ]
  },
  {
   "cell_type": "code",
   "execution_count": 43,
   "metadata": {},
   "outputs": [],
   "source": [
    "class Word2VecVectorizer:\n",
    "    def __init__(self):\n",
    "        self.word_vectors = KeyedVectors.load_word2vec_format('/home/rkamath/fastai/GoogleNews-vectors-negative300.bin',binary=True)\n",
    "        print(\"Finished loading the word vectors\")\n",
    "    \n",
    "    def fit(self,data):\n",
    "        pass\n",
    "    \n",
    "    def tranform(self,data):\n",
    "        v = self.word_vectors.get_vector('king')\n",
    "        self.D = v.shape[0]\n",
    "        \n",
    "        X = np.zeros((len(data),self.D))\n",
    "        n = 0\n",
    "        emptycount = 0\n",
    "        for sentence in data:\n",
    "            tokens = sentence.lower().split()\n",
    "            vecs = []\n",
    "            m = 0\n",
    "            for words in tokens:\n",
    "                try:\n",
    "                    vec = self.word_vectors.get_vector(words)\n",
    "                    vecs.append(vec)\n",
    "                    m+=1\n",
    "                except KeyError:\n",
    "                    pass\n",
    "            if len(vecs)>0:\n",
    "                vecs = np.array(vecs)\n",
    "                X[n] = vecs.mean(axis =0)\n",
    "            else:\n",
    "                emptycount += 1\n",
    "            n+=1\n",
    "        print(\"No of sample with no word found : %s %s\"%(emptycount,len(data)))\n",
    "        return X\n",
    "        \n",
    "    def fit_transform(self,data):\n",
    "        self.fit(data)\n",
    "        return self.tranform(data)\n",
    "        \n",
    "        "
   ]
  },
  {
   "cell_type": "code",
   "execution_count": 44,
   "metadata": {},
   "outputs": [
    {
     "name": "stdout",
     "output_type": "stream",
     "text": [
      "Finished loading the word vectors\n"
     ]
    }
   ],
   "source": [
    "vectorizer = Word2VecVectorizer()"
   ]
  },
  {
   "cell_type": "code",
   "execution_count": 45,
   "metadata": {},
   "outputs": [
    {
     "name": "stdout",
     "output_type": "stream",
     "text": [
      "No of sample with no word found : 0 11293\n"
     ]
    }
   ],
   "source": [
    "Xtrain = vectorizer.fit_transform(train.content)\n",
    "Ytrain = train.label"
   ]
  },
  {
   "cell_type": "code",
   "execution_count": null,
   "metadata": {},
   "outputs": [],
   "source": []
  }
 ],
 "metadata": {
  "kernelspec": {
   "display_name": "Python 3",
   "language": "python",
   "name": "python3"
  },
  "language_info": {
   "codemirror_mode": {
    "name": "ipython",
    "version": 3
   },
   "file_extension": ".py",
   "mimetype": "text/x-python",
   "name": "python",
   "nbconvert_exporter": "python",
   "pygments_lexer": "ipython3",
   "version": "3.6.6"
  }
 },
 "nbformat": 4,
 "nbformat_minor": 2
}
